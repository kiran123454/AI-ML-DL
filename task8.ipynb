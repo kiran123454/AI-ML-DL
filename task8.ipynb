{
 "cells": [
  {
   "cell_type": "code",
   "execution_count": 1,
   "metadata": {},
   "outputs": [
    {
     "name": "stdout",
     "output_type": "stream",
     "text": [
      "1\n",
      "2\n",
      "3\n",
      "4\n"
     ]
    },
    {
     "data": {
      "text/plain": [
       "'\\n1\\n2\\n3\\n4\\n'"
      ]
     },
     "execution_count": 1,
     "metadata": {},
     "output_type": "execute_result"
    }
   ],
   "source": [
    "# instantiate a list object\n",
    "list_instance = [1, 2, 3, 4]\n",
    "\n",
    "# loop through the list\n",
    "for iterator in list_instance:\n",
    "  print(iterator)\n",
    "\"\"\"\n",
    "1\n",
    "2\n",
    "3\n",
    "4\n",
    "\"\"\""
   ]
  },
  {
   "cell_type": "code",
   "execution_count": 2,
   "metadata": {},
   "outputs": [
    {
     "name": "stdout",
     "output_type": "stream",
     "text": [
      "A: 1\n",
      "A: 2\n",
      "A: 3\n",
      "A: 4\n",
      "B: 1\n"
     ]
    },
    {
     "data": {
      "text/plain": [
       "'\\nA: 1\\nA: 2\\nA: 3\\nA: 4\\nB: 1\\n'"
      ]
     },
     "execution_count": 2,
     "metadata": {},
     "output_type": "execute_result"
    }
   ],
   "source": [
    "list_instance = [1, 2, 3, 4]\n",
    "iterator_a = iter(list_instance)\n",
    "iterator_b = iter(list_instance)\n",
    "print(f\"A: {next(iterator_a)}\")\n",
    "print(f\"A: {next(iterator_a)}\")\n",
    "print(f\"A: {next(iterator_a)}\")\n",
    "print(f\"A: {next(iterator_a)}\")\n",
    "print(f\"B: {next(iterator_b)}\")\n",
    "\"\"\"\n",
    "A: 1\n",
    "A: 2\n",
    "A: 3\n",
    "A: 4\n",
    "B: 1\n",
    "\"\"\""
   ]
  },
  {
   "cell_type": "code",
   "execution_count": 3,
   "metadata": {},
   "outputs": [
    {
     "name": "stdout",
     "output_type": "stream",
     "text": [
      "[1, 2, 3, 4]\n"
     ]
    },
    {
     "data": {
      "text/plain": [
       "'\\n[1, 2, 3, 4]\\n'"
      ]
     },
     "execution_count": 3,
     "metadata": {},
     "output_type": "execute_result"
    }
   ],
   "source": [
    "# instantiate iterable\n",
    "list_instance = [1, 2, 3, 4]\n",
    "\n",
    "# produce an iterator from an iterable\n",
    "iterator = iter(list_instance)\n",
    "print(list(iterator))\n",
    "\"\"\"\n",
    "[1, 2, 3, 4]\n",
    "\"\"\""
   ]
  },
  {
   "cell_type": "code",
   "execution_count": 4,
   "metadata": {},
   "outputs": [
    {
     "name": "stdout",
     "output_type": "stream",
     "text": [
      "[1, 2, 4, 5, 10, 20]\n"
     ]
    },
    {
     "data": {
      "text/plain": [
       "'\\n[1, 2, 4, 5, 10, 20]\\n'"
      ]
     },
     "execution_count": 4,
     "metadata": {},
     "output_type": "execute_result"
    }
   ],
   "source": [
    "def factors(n):\n",
    "  factor_list = []\n",
    "  for val in range(1, n+1):\n",
    "      if n % val == 0:\n",
    "          factor_list.append(val)\n",
    "  return factor_list\n",
    "\n",
    "print(factors(20))\n",
    "\"\"\"\n",
    "[1, 2, 4, 5, 10, 20]\n",
    "\"\"\""
   ]
  },
  {
   "cell_type": "code",
   "execution_count": 5,
   "metadata": {},
   "outputs": [
    {
     "name": "stdout",
     "output_type": "stream",
     "text": [
      "<generator object factors at 0x000001BC92D5AD48>\n"
     ]
    },
    {
     "data": {
      "text/plain": [
       "'\\n<generator object factors at 0x7fd938271350>\\n'"
      ]
     },
     "execution_count": 5,
     "metadata": {},
     "output_type": "execute_result"
    }
   ],
   "source": [
    "def factors(n):\n",
    "  for val in range(1, n+1):\n",
    "      if n % val == 0:\n",
    "          yield val\n",
    "print(factors(20))\n",
    "\n",
    "\"\"\"\n",
    "<generator object factors at 0x7fd938271350>\n",
    "\"\"\""
   ]
  },
  {
   "cell_type": "code",
   "execution_count": 6,
   "metadata": {},
   "outputs": [
    {
     "name": "stdout",
     "output_type": "stream",
     "text": [
      "1\n"
     ]
    },
    {
     "data": {
      "text/plain": [
       "'\\n1\\n'"
      ]
     },
     "execution_count": 6,
     "metadata": {},
     "output_type": "execute_result"
    }
   ],
   "source": [
    "def factors(n):\n",
    "  for val in range(1, n+1):\n",
    "      if n % val == 0:\n",
    "          yield val\n",
    "         \n",
    "factors_of_20 = factors(20)\n",
    "print(next(factors_of_20))\n",
    "\n",
    "\"\"\"\n",
    "1\n",
    "\"\"\""
   ]
  },
  {
   "cell_type": "code",
   "execution_count": 7,
   "metadata": {},
   "outputs": [
    {
     "name": "stdout",
     "output_type": "stream",
     "text": [
      "<generator object <genexpr> at 0x000001BC92D5ADC8>\n"
     ]
    },
    {
     "data": {
      "text/plain": [
       "'\\n<generator object <genexpr> at 0x7fd940c31e50>\\n'"
      ]
     },
     "execution_count": 7,
     "metadata": {},
     "output_type": "execute_result"
    }
   ],
   "source": [
    "print((val for val in range(1, 20+1) if n % val == 0))\n",
    "\"\"\"\n",
    "<generator object <genexpr> at 0x7fd940c31e50>\n",
    "\"\"\""
   ]
  },
  {
   "cell_type": "code",
   "execution_count": 8,
   "metadata": {},
   "outputs": [
    {
     "name": "stdout",
     "output_type": "stream",
     "text": [
      "This is the first statment\n",
      "This is the second statement\n",
      "This is the third statement\n",
      "This is the last statement. Don't call next again!\n"
     ]
    },
    {
     "ename": "StopIteration",
     "evalue": "",
     "output_type": "error",
     "traceback": [
      "\u001b[1;31m---------------------------------------------------------------------------\u001b[0m",
      "\u001b[1;31mStopIteration\u001b[0m                             Traceback (most recent call last)",
      "\u001b[1;32m<ipython-input-8-5778495db73f>\u001b[0m in \u001b[0;36m<module>\u001b[1;34m\u001b[0m\n\u001b[0;32m      9\u001b[0m \u001b[0mprint\u001b[0m\u001b[1;33m(\u001b[0m\u001b[0mnext\u001b[0m\u001b[1;33m(\u001b[0m\u001b[0mexample\u001b[0m\u001b[1;33m)\u001b[0m\u001b[1;33m)\u001b[0m\u001b[1;33m\u001b[0m\u001b[1;33m\u001b[0m\u001b[0m\n\u001b[0;32m     10\u001b[0m \u001b[0mprint\u001b[0m\u001b[1;33m(\u001b[0m\u001b[0mnext\u001b[0m\u001b[1;33m(\u001b[0m\u001b[0mexample\u001b[0m\u001b[1;33m)\u001b[0m\u001b[1;33m)\u001b[0m\u001b[1;33m\u001b[0m\u001b[1;33m\u001b[0m\u001b[0m\n\u001b[1;32m---> 11\u001b[1;33m \u001b[0mprint\u001b[0m\u001b[1;33m(\u001b[0m\u001b[0mnext\u001b[0m\u001b[1;33m(\u001b[0m\u001b[0mexample\u001b[0m\u001b[1;33m)\u001b[0m\u001b[1;33m)\u001b[0m\u001b[1;33m\u001b[0m\u001b[1;33m\u001b[0m\u001b[0m\n\u001b[0m\u001b[0;32m     12\u001b[0m \"\"\"\n\u001b[0;32m     13\u001b[0m \u001b[0mThis\u001b[0m \u001b[1;32mis\u001b[0m \u001b[0mthe\u001b[0m \u001b[0mfirst\u001b[0m \u001b[0mstatment\u001b[0m\u001b[1;33m\u001b[0m\u001b[1;33m\u001b[0m\u001b[0m\n",
      "\u001b[1;31mStopIteration\u001b[0m: "
     ]
    }
   ],
   "source": [
    "def yield_multiple_statments():\n",
    "  yield \"This is the first statment\"\n",
    "  yield \"This is the second statement\"  \n",
    "  yield \"This is the third statement\"\n",
    "  yield \"This is the last statement. Don't call next again!\"\n",
    "example = yield_multiple_statments()\n",
    "print(next(example))\n",
    "print(next(example))\n",
    "print(next(example))\n",
    "print(next(example))\n",
    "print(next(example))\n",
    "\"\"\"\n",
    "This is the first statment\n",
    "This is the second statement\n",
    "This is the third statement\n",
    "This is the last statement. Don't call next again or else!\n",
    "--------------------------------------------------------------------\n",
    "StopIteration                  Traceback (most recent call last)\n",
    "<ipython-input-25-4aaf9c871f91> in <module>()\n",
    "    11 print(next(example))\n",
    "    12 print(next(example))\n",
    "---> 13 print(next(example))\n",
    "StopIteration:\n",
    "\"\"\""
   ]
  },
  {
   "cell_type": "code",
   "execution_count": 9,
   "metadata": {},
   "outputs": [
    {
     "ename": "NameError",
     "evalue": "name 'csv_reader' is not defined",
     "output_type": "error",
     "traceback": [
      "\u001b[1;31m---------------------------------------------------------------------------\u001b[0m",
      "\u001b[1;31mNameError\u001b[0m                                 Traceback (most recent call last)",
      "\u001b[1;32m<ipython-input-9-bc0c7de6a80f>\u001b[0m in \u001b[0;36m<module>\u001b[1;34m\u001b[0m\n\u001b[1;32m----> 1\u001b[1;33m \u001b[0mcsv_gen\u001b[0m \u001b[1;33m=\u001b[0m \u001b[0mcsv_reader\u001b[0m\u001b[1;33m(\u001b[0m\u001b[1;34m\"some_csv.txt\"\u001b[0m\u001b[1;33m)\u001b[0m\u001b[1;33m\u001b[0m\u001b[1;33m\u001b[0m\u001b[0m\n\u001b[0m\u001b[0;32m      2\u001b[0m \u001b[0mrow_count\u001b[0m \u001b[1;33m=\u001b[0m \u001b[1;36m0\u001b[0m\u001b[1;33m\u001b[0m\u001b[1;33m\u001b[0m\u001b[0m\n\u001b[0;32m      3\u001b[0m \u001b[1;33m\u001b[0m\u001b[0m\n\u001b[0;32m      4\u001b[0m \u001b[1;32mfor\u001b[0m \u001b[0mrow\u001b[0m \u001b[1;32min\u001b[0m \u001b[0mcsv_gen\u001b[0m\u001b[1;33m:\u001b[0m\u001b[1;33m\u001b[0m\u001b[1;33m\u001b[0m\u001b[0m\n\u001b[0;32m      5\u001b[0m     \u001b[0mrow_count\u001b[0m \u001b[1;33m+=\u001b[0m \u001b[1;36m1\u001b[0m\u001b[1;33m\u001b[0m\u001b[1;33m\u001b[0m\u001b[0m\n",
      "\u001b[1;31mNameError\u001b[0m: name 'csv_reader' is not defined"
     ]
    }
   ],
   "source": [
    "csv_gen = csv_reader(\"some_csv.txt\")\n",
    "row_count = 0\n",
    "\n",
    "for row in csv_gen:\n",
    "    row_count += 1\n",
    "\n",
    "print(f\"Row count is {row_count}\")"
   ]
  },
  {
   "cell_type": "code",
   "execution_count": 10,
   "metadata": {},
   "outputs": [],
   "source": [
    "def csv_reader(file_name):\n",
    "    for row in open(file_name, \"r\"):\n",
    "        yield row"
   ]
  },
  {
   "cell_type": "code",
   "execution_count": 11,
   "metadata": {},
   "outputs": [
    {
     "data": {
      "text/plain": [
       "[0, 1, 2, 3, 4]"
      ]
     },
     "execution_count": 11,
     "metadata": {},
     "output_type": "execute_result"
    }
   ],
   "source": [
    ">>> a = range(5)\n",
    ">>> list(a)\n",
    "[0, 1, 2, 3, 4]"
   ]
  },
  {
   "cell_type": "code",
   "execution_count": 12,
   "metadata": {},
   "outputs": [],
   "source": [
    "def infinite_sequence():\n",
    "    num = 0\n",
    "    while True:\n",
    "        yield num\n",
    "        num += 1"
   ]
  },
  {
   "cell_type": "code",
   "execution_count": 13,
   "metadata": {},
   "outputs": [
    {
     "ename": "SyntaxError",
     "evalue": "invalid syntax (<ipython-input-13-5afead03394c>, line 4)",
     "output_type": "error",
     "traceback": [
      "\u001b[1;36m  File \u001b[1;32m\"<ipython-input-13-5afead03394c>\"\u001b[1;36m, line \u001b[1;32m4\u001b[0m\n\u001b[1;33m    0 1 2 3 4 5 6 7 8 9 10 11 12 13 14 15 16 17 18 19 20 21 22 23 24 25 26 27 28 29\u001b[0m\n\u001b[1;37m      ^\u001b[0m\n\u001b[1;31mSyntaxError\u001b[0m\u001b[1;31m:\u001b[0m invalid syntax\n"
     ]
    }
   ],
   "source": [
    ">>> for i in infinite_sequence():\n",
    "...     print(i, end=\" \")\n",
    "...\n",
    "0 1 2 3 4 5 6 7 8 9 10 11 12 13 14 15 16 17 18 19 20 21 22 23 24 25 26 27 28 29\n",
    "30 31 32 33 34 35 36 37 38 39 40 41 42\n",
    "[...]\n",
    "6157818 6157819 6157820 6157821 6157822 6157823 6157824 6157825 6157826 6157827\n",
    "6157828 6157829 6157830 6157831 6157832 6157833 6157834 6157835 6157836 6157837\n",
    "6157838 6157839 6157840 6157841 6157842\n",
    "Traceback (most recent call last):\n",
    "  File \"<stdin>\", line 2, in <module>\n",
    "KeyboardInterrupt"
   ]
  },
  {
   "cell_type": "code",
   "execution_count": 14,
   "metadata": {},
   "outputs": [
    {
     "data": {
      "text/plain": [
       "3"
      ]
     },
     "execution_count": 14,
     "metadata": {},
     "output_type": "execute_result"
    }
   ],
   "source": [
    ">>> gen = infinite_sequence()\n",
    ">>> next(gen)\n",
    "0\n",
    ">>> next(gen)\n",
    "1\n",
    ">>> next(gen)\n",
    "2\n",
    ">>> next(gen)\n",
    "3"
   ]
  },
  {
   "cell_type": "code",
   "execution_count": 15,
   "metadata": {},
   "outputs": [],
   "source": [
    "def is_palindrome(num):\n",
    "    # Skip single-digit inputs\n",
    "    if num // 10 == 0:\n",
    "        return False\n",
    "    temp = num\n",
    "    reversed_num = 0\n",
    "\n",
    "    while temp != 0:\n",
    "        reversed_num = (reversed_num * 10) + (temp % 10)\n",
    "        temp = temp // 10\n",
    "\n",
    "    if num == reversed_num:\n",
    "        return num\n",
    "    else:\n",
    "        return False"
   ]
  },
  {
   "cell_type": "code",
   "execution_count": 16,
   "metadata": {},
   "outputs": [
    {
     "ename": "SyntaxError",
     "evalue": "invalid syntax (<ipython-input-16-29c9e6330711>, line 16)",
     "output_type": "error",
     "traceback": [
      "\u001b[1;36m  File \u001b[1;32m\"<ipython-input-16-29c9e6330711>\"\u001b[1;36m, line \u001b[1;32m16\u001b[0m\n\u001b[1;33m    Traceback (most recent call last):\u001b[0m\n\u001b[1;37m                         ^\u001b[0m\n\u001b[1;31mSyntaxError\u001b[0m\u001b[1;31m:\u001b[0m invalid syntax\n"
     ]
    }
   ],
   "source": [
    ">>> for i in infinite_sequence():\n",
    "...     pal = is_palindrome(i)\n",
    "...     if pal:\n",
    "...         print(i)\n",
    "...\n",
    "11\n",
    "22\n",
    "33\n",
    "[...]\n",
    "99799\n",
    "99899\n",
    "99999\n",
    "100001\n",
    "101101\n",
    "102201\n",
    "Traceback (most recent call last):\n",
    "  File \"<stdin>\", line 2, in <module>\n",
    "  File \"<stdin>\", line 5, in is_palindrome\n",
    "KeyboardInterrupt"
   ]
  },
  {
   "cell_type": "code",
   "execution_count": 17,
   "metadata": {},
   "outputs": [
    {
     "name": "stdout",
     "output_type": "stream",
     "text": [
      "120\n"
     ]
    },
    {
     "data": {
      "text/plain": [
       "120"
      ]
     },
     "execution_count": 17,
     "metadata": {},
     "output_type": "execute_result"
    }
   ],
   "source": [
    ">>> import sys\n",
    ">>> nums_squared_lc = [i ** 2 for i in range(10000)]\n",
    ">>> sys.getsizeof(nums_squared_lc)\n",
    "87624\n",
    ">>> nums_squared_gc = (i ** 2 for i in range(10000))\n",
    ">>> print(sys.getsizeof(nums_squared_gc))\n",
    "120"
   ]
  },
  {
   "cell_type": "code",
   "execution_count": 19,
   "metadata": {},
   "outputs": [
    {
     "ename": "IndentationError",
     "evalue": "unindent does not match any outer indentation level (<tokenize>, line 5)",
     "output_type": "error",
     "traceback": [
      "\u001b[1;36m  File \u001b[1;32m\"<tokenize>\"\u001b[1;36m, line \u001b[1;32m5\u001b[0m\n\u001b[1;33m    Ordered by: standard name\u001b[0m\n\u001b[1;37m    ^\u001b[0m\n\u001b[1;31mIndentationError\u001b[0m\u001b[1;31m:\u001b[0m unindent does not match any outer indentation level\n"
     ]
    }
   ],
   "source": [
    ">>> import cProfile\n",
    ">>> cProfile.run('sum([i * 2 for i in range(10000)])')\n",
    "         5 function calls in 0.001 seconds\n",
    "\n",
    "   Ordered by: standard name\n",
    "\n",
    "   ncalls  tottime  percall  cumtime  percall filename:lineno(function)\n",
    "        1    0.001    0.001    0.001    0.001 <string>:1(<listcomp>)\n",
    "        1    0.000    0.000    0.001    0.001 <string>:1(<module>)\n",
    "        1    0.000    0.000    0.001    0.001 {built-in method builtins.exec}\n",
    "        1    0.000    0.000    0.000    0.000 {built-in method builtins.sum}\n",
    "        1    0.000    0.000    0.000    0.000 {method 'disable' of '_lsprof.Profiler' objects}\n",
    "\n",
    "\n",
    ">>> cProfile.run('sum((i * 2 for i in range(10000)))')\n",
    "         10005 function calls in 0.003 seconds\n",
    "\n",
    "   Ordered by: standard name\n",
    "\n",
    "   ncalls  tottime  percall  cumtime  percall filename:lineno(function)\n",
    "    10001    0.002    0.000    0.002    0.000 <string>:1(<genexpr>)\n",
    "        1    0.000    0.000    0.003    0.003 <string>:1(<module>)\n",
    "        1    0.000    0.000    0.003    0.003 {built-in method builtins.exec}\n",
    "        1    0.001    0.001    0.003    0.003 {built-in method builtins.sum}\n",
    "        1    0.000    0.000    0.000    0.000 {method 'disable' of '_lsprof.Profiler' objects}"
   ]
  },
  {
   "cell_type": "code",
   "execution_count": 20,
   "metadata": {},
   "outputs": [
    {
     "ename": "SyntaxError",
     "evalue": "invalid syntax (<ipython-input-20-c96b94593bdb>, line 9)",
     "output_type": "error",
     "traceback": [
      "\u001b[1;36m  File \u001b[1;32m\"<ipython-input-20-c96b94593bdb>\"\u001b[1;36m, line \u001b[1;32m9\u001b[0m\n\u001b[1;33m    This will print the first string\u001b[0m\n\u001b[1;37m            ^\u001b[0m\n\u001b[1;31mSyntaxError\u001b[0m\u001b[1;31m:\u001b[0m invalid syntax\n"
     ]
    }
   ],
   "source": [
    ">>> def multi_yield():\n",
    "...     yield_str = \"This will print the first string\"\n",
    "...     yield yield_str\n",
    "...     yield_str = \"This will print the second string\"\n",
    "...     yield yield_str\n",
    "...\n",
    ">>> multi_obj = multi_yield()\n",
    ">>> print(next(multi_obj))\n",
    "This will print the first string\n",
    ">>> print(next(multi_obj))\n",
    "This will print the second string\n",
    ">>> print(next(multi_obj))\n",
    "Traceback (most recent call last):\n",
    "  File \"<stdin>\", line 1, in <module>\n",
    "StopIteration"
   ]
  },
  {
   "cell_type": "code",
   "execution_count": 21,
   "metadata": {},
   "outputs": [],
   "source": [
    "def is_palindrome(num):\n",
    "    # Skip single-digit inputs\n",
    "    if num // 10 == 0:\n",
    "        return False\n",
    "    temp = num\n",
    "    reversed_num = 0\n",
    "\n",
    "    while temp != 0:\n",
    "        reversed_num = (reversed_num * 10) + (temp % 10)\n",
    "        temp = temp // 10\n",
    "\n",
    "    if num == reversed_num:\n",
    "        return True\n",
    "    else:\n",
    "        return False"
   ]
  },
  {
   "cell_type": "code",
   "execution_count": 22,
   "metadata": {},
   "outputs": [],
   "source": [
    "def infinite_palindromes():\n",
    "    num = 0\n",
    "    while True:\n",
    "        if is_palindrome(num):\n",
    "            i = (yield num)\n",
    "            if i is not None:\n",
    "                num = i\n",
    "        num += 1"
   ]
  },
  {
   "cell_type": "code",
   "execution_count": 23,
   "metadata": {},
   "outputs": [
    {
     "ename": "SyntaxError",
     "evalue": "invalid syntax (<ipython-input-23-0eb67a0c0905>, line 7)",
     "output_type": "error",
     "traceback": [
      "\u001b[1;36m  File \u001b[1;32m\"<ipython-input-23-0eb67a0c0905>\"\u001b[1;36m, line \u001b[1;32m7\u001b[0m\n\u001b[1;33m    Hello!\u001b[0m\n\u001b[1;37m         ^\u001b[0m\n\u001b[1;31mSyntaxError\u001b[0m\u001b[1;31m:\u001b[0m invalid syntax\n"
     ]
    }
   ],
   "source": [
    ">>> times = 0\n",
    "\n",
    ">>> while times < 3:\n",
    "...     print(\"Hello!\")\n",
    "...     times += 1\n",
    "...\n",
    "Hello!\n",
    "Hello!\n",
    "Hello!"
   ]
  },
  {
   "cell_type": "code",
   "execution_count": 24,
   "metadata": {},
   "outputs": [
    {
     "name": "stdout",
     "output_type": "stream",
     "text": [
      "1\n",
      "2\n",
      "3\n",
      "4\n",
      "5\n"
     ]
    },
    {
     "data": {
      "text/plain": [
       "5"
      ]
     },
     "execution_count": 24,
     "metadata": {},
     "output_type": "execute_result"
    }
   ],
   "source": [
    ">>> numbers = [1, 2, 3, 4, 5]\n",
    "\n",
    ">>> for number in numbers:\n",
    "...     print(number)\n",
    "...\n",
    "1\n",
    "2\n",
    "3\n",
    "4\n",
    "5\n"
   ]
  },
  {
   "cell_type": "code",
   "execution_count": 25,
   "metadata": {},
   "outputs": [],
   "source": [
    "class SequenceIterator:\n",
    "    def __init__(self, sequence):\n",
    "        self._sequence = sequence\n",
    "        self._index = 0\n",
    "\n",
    "    def __iter__(self):\n",
    "        return self\n",
    "\n",
    "    def __next__(self):\n",
    "        if self._index < len(self._sequence):\n",
    "            item = self._sequence[self._index]\n",
    "            self._index += 1\n",
    "            return item\n",
    "        else:\n",
    "            raise StopIteration"
   ]
  },
  {
   "cell_type": "code",
   "execution_count": 26,
   "metadata": {},
   "outputs": [
    {
     "ename": "ModuleNotFoundError",
     "evalue": "No module named 'sequence_iter'",
     "output_type": "error",
     "traceback": [
      "\u001b[1;31m---------------------------------------------------------------------------\u001b[0m",
      "\u001b[1;31mModuleNotFoundError\u001b[0m                       Traceback (most recent call last)",
      "\u001b[1;32m<ipython-input-26-398b90b8b087>\u001b[0m in \u001b[0;36m<module>\u001b[1;34m\u001b[0m\n\u001b[1;32m----> 1\u001b[1;33m \u001b[1;32mfrom\u001b[0m \u001b[0msequence_iter\u001b[0m \u001b[1;32mimport\u001b[0m \u001b[0mSequenceIterator\u001b[0m\u001b[1;33m\u001b[0m\u001b[1;33m\u001b[0m\u001b[0m\n\u001b[0m\u001b[0;32m      2\u001b[0m \u001b[1;33m\u001b[0m\u001b[0m\n\u001b[0;32m      3\u001b[0m \u001b[1;32mfor\u001b[0m \u001b[0mitem\u001b[0m \u001b[1;32min\u001b[0m \u001b[0mSequenceIterator\u001b[0m\u001b[1;33m(\u001b[0m\u001b[1;33m[\u001b[0m\u001b[1;36m1\u001b[0m\u001b[1;33m,\u001b[0m \u001b[1;36m2\u001b[0m\u001b[1;33m,\u001b[0m \u001b[1;36m3\u001b[0m\u001b[1;33m,\u001b[0m \u001b[1;36m4\u001b[0m\u001b[1;33m]\u001b[0m\u001b[1;33m)\u001b[0m\u001b[1;33m:\u001b[0m\u001b[1;33m\u001b[0m\u001b[1;33m\u001b[0m\u001b[0m\n\u001b[0;32m      4\u001b[0m     \u001b[0mprint\u001b[0m\u001b[1;33m(\u001b[0m\u001b[0mitem\u001b[0m\u001b[1;33m)\u001b[0m\u001b[1;33m\u001b[0m\u001b[1;33m\u001b[0m\u001b[0m\n\u001b[0;32m      5\u001b[0m \u001b[1;33m\u001b[0m\u001b[0m\n",
      "\u001b[1;31mModuleNotFoundError\u001b[0m: No module named 'sequence_iter'"
     ]
    }
   ],
   "source": [
    ">>> from sequence_iter import SequenceIterator\n",
    "\n",
    ">>> for item in SequenceIterator([1, 2, 3, 4]):\n",
    "...     print(item)\n",
    "...\n",
    "1\n",
    "2\n",
    "3\n",
    "4"
   ]
  },
  {
   "cell_type": "code",
   "execution_count": 27,
   "metadata": {},
   "outputs": [
    {
     "name": "stdout",
     "output_type": "stream",
     "text": [
      "1\n",
      "2\n",
      "3\n",
      "4\n"
     ]
    },
    {
     "data": {
      "text/plain": [
       "4"
      ]
     },
     "execution_count": 27,
     "metadata": {},
     "output_type": "execute_result"
    }
   ],
   "source": [
    ">>> sequence = SequenceIterator([1, 2, 3, 4])\n",
    "\n",
    ">>> # Get an iterator over the data\n",
    ">>> iterator = sequence.__iter__()\n",
    ">>> while True:\n",
    "...     try:\n",
    "...         # Retrieve the next item\n",
    "...         item = iterator.__next__()\n",
    "...     except StopIteration:\n",
    "...         break\n",
    "...     else:\n",
    "...         # The loop's code block goes here...\n",
    "...         print(item)\n",
    "...\n",
    "1\n",
    "2\n",
    "3\n",
    "4"
   ]
  },
  {
   "cell_type": "code",
   "execution_count": 28,
   "metadata": {},
   "outputs": [
    {
     "ename": "ModuleNotFoundError",
     "evalue": "No module named 'square_iter'",
     "output_type": "error",
     "traceback": [
      "\u001b[1;31m---------------------------------------------------------------------------\u001b[0m",
      "\u001b[1;31mModuleNotFoundError\u001b[0m                       Traceback (most recent call last)",
      "\u001b[1;32m<ipython-input-28-fe35934ffa4b>\u001b[0m in \u001b[0;36m<module>\u001b[1;34m\u001b[0m\n\u001b[1;32m----> 1\u001b[1;33m \u001b[1;32mfrom\u001b[0m \u001b[0msquare_iter\u001b[0m \u001b[1;32mimport\u001b[0m \u001b[0mSquareIterator\u001b[0m\u001b[1;33m\u001b[0m\u001b[1;33m\u001b[0m\u001b[0m\n\u001b[0m\u001b[0;32m      2\u001b[0m \u001b[1;33m\u001b[0m\u001b[0m\n\u001b[0;32m      3\u001b[0m \u001b[1;32mfor\u001b[0m \u001b[0msquare\u001b[0m \u001b[1;32min\u001b[0m \u001b[0mSquareIterator\u001b[0m\u001b[1;33m(\u001b[0m\u001b[1;33m[\u001b[0m\u001b[1;36m1\u001b[0m\u001b[1;33m,\u001b[0m \u001b[1;36m2\u001b[0m\u001b[1;33m,\u001b[0m \u001b[1;36m3\u001b[0m\u001b[1;33m,\u001b[0m \u001b[1;36m4\u001b[0m\u001b[1;33m,\u001b[0m \u001b[1;36m5\u001b[0m\u001b[1;33m]\u001b[0m\u001b[1;33m)\u001b[0m\u001b[1;33m:\u001b[0m\u001b[1;33m\u001b[0m\u001b[1;33m\u001b[0m\u001b[0m\n\u001b[0;32m      4\u001b[0m     \u001b[0mprint\u001b[0m\u001b[1;33m(\u001b[0m\u001b[0msquare\u001b[0m\u001b[1;33m)\u001b[0m\u001b[1;33m\u001b[0m\u001b[1;33m\u001b[0m\u001b[0m\n\u001b[0;32m      5\u001b[0m \u001b[1;33m\u001b[0m\u001b[0m\n",
      "\u001b[1;31mModuleNotFoundError\u001b[0m: No module named 'square_iter'"
     ]
    }
   ],
   "source": [
    ">>> from square_iter import SquareIterator\n",
    "\n",
    ">>> for square in SquareIterator([1, 2, 3, 4, 5]):\n",
    "...     print(square)\n",
    "...\n",
    "1\n",
    "4\n",
    "9\n",
    "16\n",
    "25"
   ]
  },
  {
   "cell_type": "code",
   "execution_count": 29,
   "metadata": {},
   "outputs": [
    {
     "ename": "ModuleNotFoundError",
     "evalue": "No module named 'fib_iter'",
     "output_type": "error",
     "traceback": [
      "\u001b[1;31m---------------------------------------------------------------------------\u001b[0m",
      "\u001b[1;31mModuleNotFoundError\u001b[0m                       Traceback (most recent call last)",
      "\u001b[1;32m<ipython-input-29-3a19cbc7253b>\u001b[0m in \u001b[0;36m<module>\u001b[1;34m\u001b[0m\n\u001b[1;32m----> 1\u001b[1;33m \u001b[1;32mfrom\u001b[0m \u001b[0mfib_iter\u001b[0m \u001b[1;32mimport\u001b[0m \u001b[0mFibonacciIterator\u001b[0m\u001b[1;33m\u001b[0m\u001b[1;33m\u001b[0m\u001b[0m\n\u001b[0m\u001b[0;32m      2\u001b[0m \u001b[1;33m\u001b[0m\u001b[0m\n\u001b[0;32m      3\u001b[0m \u001b[1;32mfor\u001b[0m \u001b[0mfib_number\u001b[0m \u001b[1;32min\u001b[0m \u001b[0mFibonacciIterator\u001b[0m\u001b[1;33m(\u001b[0m\u001b[1;33m)\u001b[0m\u001b[1;33m:\u001b[0m\u001b[1;33m\u001b[0m\u001b[1;33m\u001b[0m\u001b[0m\n\u001b[0;32m      4\u001b[0m     \u001b[0mprint\u001b[0m\u001b[1;33m(\u001b[0m\u001b[0mfib_number\u001b[0m\u001b[1;33m)\u001b[0m\u001b[1;33m\u001b[0m\u001b[1;33m\u001b[0m\u001b[0m\n\u001b[0;32m      5\u001b[0m \u001b[1;33m\u001b[0m\u001b[0m\n",
      "\u001b[1;31mModuleNotFoundError\u001b[0m: No module named 'fib_iter'"
     ]
    }
   ],
   "source": [
    ">>> from fib_iter import FibonacciIterator\n",
    "\n",
    ">>> for fib_number in FibonacciIterator():\n",
    "...     print(fib_number)\n",
    "...\n",
    "0\n",
    "1\n",
    "1\n",
    "2\n",
    "3\n",
    "5\n",
    "8\n",
    "13\n",
    "21\n",
    "34"
   ]
  },
  {
   "cell_type": "code",
   "execution_count": 30,
   "metadata": {},
   "outputs": [
    {
     "ename": "ModuleNotFoundError",
     "evalue": "No module named 'sequence_iter'",
     "output_type": "error",
     "traceback": [
      "\u001b[1;31m---------------------------------------------------------------------------\u001b[0m",
      "\u001b[1;31mModuleNotFoundError\u001b[0m                       Traceback (most recent call last)",
      "\u001b[1;32m<ipython-input-30-d7805ba45236>\u001b[0m in \u001b[0;36m<module>\u001b[1;34m\u001b[0m\n\u001b[1;32m----> 1\u001b[1;33m \u001b[1;32mfrom\u001b[0m \u001b[0msequence_iter\u001b[0m \u001b[1;32mimport\u001b[0m \u001b[0mSequenceIterator\u001b[0m\u001b[1;33m\u001b[0m\u001b[1;33m\u001b[0m\u001b[0m\n\u001b[0m\u001b[0;32m      2\u001b[0m \u001b[1;33m\u001b[0m\u001b[0m\n\u001b[0;32m      3\u001b[0m \u001b[1;32mfor\u001b[0m \u001b[0mnumber\u001b[0m \u001b[1;32min\u001b[0m \u001b[0mSequenceIterator\u001b[0m\u001b[1;33m(\u001b[0m\u001b[1;33m[\u001b[0m\u001b[1;36m1\u001b[0m\u001b[1;33m,\u001b[0m \u001b[1;36m2\u001b[0m\u001b[1;33m,\u001b[0m \u001b[1;36m3\u001b[0m\u001b[1;33m,\u001b[0m \u001b[1;36m4\u001b[0m\u001b[1;33m]\u001b[0m\u001b[1;33m)\u001b[0m\u001b[1;33m:\u001b[0m\u001b[1;33m\u001b[0m\u001b[1;33m\u001b[0m\u001b[0m\n\u001b[0;32m      4\u001b[0m     \u001b[0mprint\u001b[0m\u001b[1;33m(\u001b[0m\u001b[0mnumber\u001b[0m\u001b[1;33m)\u001b[0m\u001b[1;33m\u001b[0m\u001b[1;33m\u001b[0m\u001b[0m\n\u001b[0;32m      5\u001b[0m \u001b[1;33m\u001b[0m\u001b[0m\n",
      "\u001b[1;31mModuleNotFoundError\u001b[0m: No module named 'sequence_iter'"
     ]
    }
   ],
   "source": [
    ">>> from sequence_iter import SequenceIterator\n",
    "\n",
    ">>> for number in SequenceIterator([1, 2, 3, 4]):\n",
    "...     print(number)\n",
    "...\n",
    "1\n",
    "2\n",
    "3\n",
    "4"
   ]
  },
  {
   "cell_type": "code",
   "execution_count": 31,
   "metadata": {},
   "outputs": [
    {
     "ename": "SyntaxError",
     "evalue": "invalid syntax (<ipython-input-31-1d3002eda773>, line 7)",
     "output_type": "error",
     "traceback": [
      "\u001b[1;36m  File \u001b[1;32m\"<ipython-input-31-1d3002eda773>\"\u001b[1;36m, line \u001b[1;32m7\u001b[0m\n\u001b[1;33m    <generator object sequence_generator at 0x108cb6260>\u001b[0m\n\u001b[1;37m    ^\u001b[0m\n\u001b[1;31mSyntaxError\u001b[0m\u001b[1;31m:\u001b[0m invalid syntax\n"
     ]
    }
   ],
   "source": [
    ">>> def sequence_generator(sequence):\n",
    "...     for item in sequence:\n",
    "...         yield item\n",
    "...\n",
    "\n",
    ">>> sequence_generator([1, 2, 3, 4])\n",
    "<generator object sequence_generator at 0x108cb6260>\n",
    "\n",
    ">>> for number in sequence_generator([1, 2, 3, 4]):\n",
    "...     print(number)\n",
    "...\n",
    "1\n",
    "2\n",
    "3\n",
    "4"
   ]
  },
  {
   "cell_type": "code",
   "execution_count": 32,
   "metadata": {},
   "outputs": [
    {
     "ename": "SyntaxError",
     "evalue": "invalid syntax (<ipython-input-32-3be6d527f46a>, line 5)",
     "output_type": "error",
     "traceback": [
      "\u001b[1;36m  File \u001b[1;32m\"<ipython-input-32-3be6d527f46a>\"\u001b[1;36m, line \u001b[1;32m5\u001b[0m\n\u001b[1;33m    <generator object <genexpr> at 0x7f55962bef60>\u001b[0m\n\u001b[1;37m    ^\u001b[0m\n\u001b[1;31mSyntaxError\u001b[0m\u001b[1;31m:\u001b[0m invalid syntax\n"
     ]
    }
   ],
   "source": [
    ">>> [item for item in [1, 2, 3, 4]]  # List comprehension\n",
    "[1, 2, 3, 4]\n",
    "\n",
    ">>> (item for item in [1, 2, 3, 4])  # Generator expression\n",
    "<generator object <genexpr> at 0x7f55962bef60>\n",
    "\n",
    ">>> generator_expression = (item for item in [1, 2, 3, 4])\n",
    ">>> for item in generator_expression:\n",
    "...     print(item)\n",
    "...\n",
    "1\n",
    "2\n",
    "3\n",
    "4"
   ]
  },
  {
   "cell_type": "code",
   "execution_count": 33,
   "metadata": {},
   "outputs": [
    {
     "data": {
      "text/plain": [
       "[0, 1, 1, 2, 3, 5, 8, 13, 21, 34, 55, 89, 144, 233, 377]"
      ]
     },
     "execution_count": 33,
     "metadata": {},
     "output_type": "execute_result"
    }
   ],
   "source": [
    ">>> def fibonacci_generator(stop=10):\n",
    "...     current_fib, next_fib = 0, 1\n",
    "...     for _ in range(0, stop):\n",
    "...         fib_number = current_fib\n",
    "...         current_fib, next_fib = (\n",
    "...            next_fib, current_fib + next_fib\n",
    "...         )\n",
    "...         yield fib_number\n",
    "...\n",
    "\n",
    ">>> list(fibonacci_generator())\n",
    "[0, 1, 1, 2, 3, 5, 8, 13, 21, 34]\n",
    ">>> list(fibonacci_generator(15))\n",
    "[0, 1, 1, 2, 3, 5, 8, 13, 21, 34, 55, 89, 144, 233, 377]"
   ]
  },
  {
   "cell_type": "code",
   "execution_count": 34,
   "metadata": {},
   "outputs": [
    {
     "data": {
      "text/plain": [
       "[1, 4, 9, 16, 25]"
      ]
     },
     "execution_count": 34,
     "metadata": {},
     "output_type": "execute_result"
    }
   ],
   "source": [
    ">>> def square_list(sequence):\n",
    "...     squares = []\n",
    "...     for item in sequence:\n",
    "...         squares.append(item**2)\n",
    "...     return squares\n",
    "...\n",
    "\n",
    ">>> numbers = [1, 2, 3, 4, 5]\n",
    ">>> square_list(numbers)\n",
    "[1, 4, 9, 16, 25]"
   ]
  },
  {
   "cell_type": "code",
   "execution_count": 35,
   "metadata": {},
   "outputs": [],
   "source": [
    "def to_square(numbers):\n",
    "    return (number**2 for number in numbers)\n",
    "\n",
    "def to_cube(numbers):\n",
    "    return (number**3 for number in numbers)\n",
    "\n",
    "def to_even(numbers):\n",
    "    return (number for number in numbers if number % 2 == 0)\n",
    "\n",
    "def to_odd(numbers):\n",
    "    return (number for number in numbers if number % 2 != 0)\n",
    "\n",
    "def to_string(numbers):\n",
    "    return (str(number) for number in numbers)"
   ]
  },
  {
   "cell_type": "code",
   "execution_count": 36,
   "metadata": {},
   "outputs": [],
   "source": [
    "class ReusableRange:\n",
    "    def __init__(self, start=0, stop=None, step=1):\n",
    "        if stop is None:\n",
    "            stop, start = start, 0\n",
    "        self._range = range(start, stop, step)\n",
    "        self._iter = iter(self._range)\n",
    "\n",
    "    def __iter__(self):\n",
    "        return self\n",
    "\n",
    "    def __next__(self):\n",
    "        try:\n",
    "            return next(self._iter)\n",
    "        except StopIteration:\n",
    "            self._iter = iter(self._range)\n",
    "            raise"
   ]
  },
  {
   "cell_type": "code",
   "execution_count": 37,
   "metadata": {},
   "outputs": [
    {
     "ename": "SyntaxError",
     "evalue": "invalid syntax (<ipython-input-37-5a4cebee8287>, line 9)",
     "output_type": "error",
     "traceback": [
      "\u001b[1;36m  File \u001b[1;32m\"<ipython-input-37-5a4cebee8287>\"\u001b[1;36m, line \u001b[1;32m9\u001b[0m\n\u001b[1;33m    Traceback (most recent call last):\u001b[0m\n\u001b[1;37m                         ^\u001b[0m\n\u001b[1;31mSyntaxError\u001b[0m\u001b[1;31m:\u001b[0m invalid syntax\n"
     ]
    }
   ],
   "source": [
    ">>> numbers_iter = SequenceIterator([1, 2, 3])\n",
    ">>> next(numbers_iter)\n",
    "1\n",
    ">>> next(numbers_iter)\n",
    "2\n",
    ">>> next(numbers_iter)\n",
    "3\n",
    ">>> next(numbers_iter)\n",
    "Traceback (most recent call last):\n",
    "    ...\n",
    "StopIteration\n",
    "\n",
    ">>> numbers_iter = SequenceIterator([1, 2, 3])\n",
    ">>> next(numbers_iter, 0)\n",
    "1\n",
    ">>> next(numbers_iter, 0)\n",
    "2\n",
    ">>> next(numbers_iter, 0)\n",
    "3\n",
    ">>> next(numbers_iter, 0)\n",
    "0\n",
    ">>> next(numbers_iter, 0)\n",
    "0"
   ]
  },
  {
   "cell_type": "code",
   "execution_count": 38,
   "metadata": {},
   "outputs": [
    {
     "ename": "SyntaxError",
     "evalue": "invalid syntax (<ipython-input-38-5a7dcf69e8f5>, line 3)",
     "output_type": "error",
     "traceback": [
      "\u001b[1;36m  File \u001b[1;32m\"<ipython-input-38-5a7dcf69e8f5>\"\u001b[1;36m, line \u001b[1;32m3\u001b[0m\n\u001b[1;33m    Traceback (most recent call last):\u001b[0m\n\u001b[1;37m                         ^\u001b[0m\n\u001b[1;31mSyntaxError\u001b[0m\u001b[1;31m:\u001b[0m invalid syntax\n"
     ]
    }
   ],
   "source": [
    ">>> numbers = Iterable([1, 2, 3, 4])\n",
    ">>> next(numbers)\n",
    "Traceback (most recent call last):\n",
    "    ...\n",
    "TypeError: 'Iterable' object is not an iterator\n",
    "\n",
    ">>> letters = \"ABCD\"\n",
    ">>> next(letters)\n",
    "Traceback (most recent call last):\n",
    "    ...\n",
    "TypeError: 'str' object is not an iterator\n",
    "\n",
    ">>> fruits = [\n",
    "...     \"apple\",\n",
    "...     \"banana\",\n",
    "...     \"orange\",\n",
    "...     \"grape\",\n",
    "...     \"lemon\",\n",
    "... ]\n",
    ">>> next(fruits)\n",
    "Traceback (most recent call last):\n",
    "    ...\n",
    "TypeError: 'list' object is not an iterator"
   ]
  },
  {
   "cell_type": "code",
   "execution_count": 39,
   "metadata": {},
   "outputs": [
    {
     "ename": "SyntaxError",
     "evalue": "invalid syntax (<ipython-input-39-0830d8f0eca9>, line 10)",
     "output_type": "error",
     "traceback": [
      "\u001b[1;36m  File \u001b[1;32m\"<ipython-input-39-0830d8f0eca9>\"\u001b[1;36m, line \u001b[1;32m10\u001b[0m\n\u001b[1;33m    <list_iterator object at 0x105858760>\u001b[0m\n\u001b[1;37m    ^\u001b[0m\n\u001b[1;31mSyntaxError\u001b[0m\u001b[1;31m:\u001b[0m invalid syntax\n"
     ]
    }
   ],
   "source": [
    ">>> fruits = [\n",
    "... \"apple\",\n",
    "... \"banana\",\n",
    "... \"orange\",\n",
    "... \"grape\",\n",
    "... \"lemon\",\n",
    "... ]\n",
    "\n",
    ">>> iter(fruits)\n",
    "<list_iterator object at 0x105858760>\n",
    "\n",
    ">>> iter(42)\n",
    "Traceback (most recent call last):\n",
    "    ...\n",
    "TypeError: 'int' object is not iterable"
   ]
  },
  {
   "cell_type": "code",
   "execution_count": 40,
   "metadata": {},
   "outputs": [
    {
     "ename": "SyntaxError",
     "evalue": "invalid syntax (<ipython-input-40-d566e1ac983a>, line 4)",
     "output_type": "error",
     "traceback": [
      "\u001b[1;36m  File \u001b[1;32m\"<ipython-input-40-d566e1ac983a>\"\u001b[1;36m, line \u001b[1;32m4\u001b[0m\n\u001b[1;33m    <list_reverseiterator object at 0x1053ff490>\u001b[0m\n\u001b[1;37m    ^\u001b[0m\n\u001b[1;31mSyntaxError\u001b[0m\u001b[1;31m:\u001b[0m invalid syntax\n"
     ]
    }
   ],
   "source": [
    ">>> digits = [0, 1, 2, 3, 4, 5, 6, 7, 8, 9]\n",
    "\n",
    ">>> reversed(digits)\n",
    "<list_reverseiterator object at 0x1053ff490>\n",
    "\n",
    ">>> list(reversed(digits))\n",
    "[9, 8, 7, 6, 5, 4, 3, 2, 1, 0]"
   ]
  },
  {
   "cell_type": "code",
   "execution_count": 41,
   "metadata": {},
   "outputs": [],
   "source": [
    "class Stack:\n",
    "    def __init__(self):\n",
    "        self._items = []\n",
    "\n",
    "    def push(self, item):\n",
    "        self._items.append(item)\n",
    "\n",
    "    def pop(self):\n",
    "        try:\n",
    "            return self._items.pop()\n",
    "        except IndexError:\n",
    "            raise IndexError(\"pop from an empty stack\") from None\n",
    "\n",
    "    def __getitem__(self, index):\n",
    "        return self._items[index]\n",
    "\n",
    "    def __len__(self):\n",
    "        return len(self._items)"
   ]
  },
  {
   "cell_type": "code",
   "execution_count": 42,
   "metadata": {},
   "outputs": [
    {
     "ename": "SyntaxError",
     "evalue": "invalid syntax (<ipython-input-42-25b2c5adb9fd>, line 10)",
     "output_type": "error",
     "traceback": [
      "\u001b[1;36m  File \u001b[1;32m\"<ipython-input-42-25b2c5adb9fd>\"\u001b[1;36m, line \u001b[1;32m10\u001b[0m\n\u001b[1;33m    <iterator object at 0x104e9b460>\u001b[0m\n\u001b[1;37m    ^\u001b[0m\n\u001b[1;31mSyntaxError\u001b[0m\u001b[1;31m:\u001b[0m invalid syntax\n"
     ]
    }
   ],
   "source": [
    ">>> from stack import Stack\n",
    "\n",
    ">>> stack = Stack()\n",
    ">>> stack.push(1)\n",
    ">>> stack.push(2)\n",
    ">>> stack.push(3)\n",
    ">>> stack.push(4)\n",
    "\n",
    ">>> iter(stack)\n",
    "<iterator object at 0x104e9b460>\n",
    "\n",
    ">>> for value in stack:\n",
    "...     print(value)\n",
    "...\n",
    "1\n",
    "2\n",
    "3\n",
    "4"
   ]
  },
  {
   "cell_type": "code",
   "execution_count": null,
   "metadata": {},
   "outputs": [],
   "source": []
  }
 ],
 "metadata": {
  "kernelspec": {
   "display_name": "Python 3",
   "language": "python",
   "name": "python3"
  },
  "language_info": {
   "codemirror_mode": {
    "name": "ipython",
    "version": 3
   },
   "file_extension": ".py",
   "mimetype": "text/x-python",
   "name": "python",
   "nbconvert_exporter": "python",
   "pygments_lexer": "ipython3",
   "version": "3.7.6"
  }
 },
 "nbformat": 4,
 "nbformat_minor": 4
}
